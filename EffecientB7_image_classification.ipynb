{
  "nbformat": 4,
  "nbformat_minor": 0,
  "metadata": {
    "accelerator": "GPU",
    "colab": {
      "name": "he_holiday_season.ipynb",
      "provenance": [],
      "mount_file_id": "1g_QIikbl5rMV4-RH5Wbv1Jj4Dt_yPb1k",
      "authorship_tag": "ABX9TyNpfYtFw7BUdrg59gGxojE7",
      "include_colab_link": true
    },
    "kernelspec": {
      "display_name": "Python 3",
      "name": "python3"
    }
  },
  "cells": [
    {
      "cell_type": "markdown",
      "metadata": {
        "id": "view-in-github",
        "colab_type": "text"
      },
      "source": [
        "<a href=\"https://colab.research.google.com/github/anuj0456/machine_learning_examples/blob/master/EffecientB7_image_classification.ipynb\" target=\"_parent\"><img src=\"https://colab.research.google.com/assets/colab-badge.svg\" alt=\"Open In Colab\"/></a>"
      ]
    },
    {
      "cell_type": "code",
      "metadata": {
        "colab": {
          "base_uri": "https://localhost:8080/"
        },
        "id": "MUMuItzhqSTE",
        "outputId": "a54043cc-0912-4cae-a0a1-d125d0187cf5"
      },
      "source": [
        "from datetime import datetime \r\n",
        "import pytz \r\n",
        "IST = pytz.timezone('Asia/Kolkata') \r\n",
        "datetime = datetime.now(IST) \r\n",
        "print(\"Last run at:\", datetime.strftime('%d-%m-%Y at %H:%M:%S %p')) "
      ],
      "execution_count": 40,
      "outputs": [
        {
          "output_type": "stream",
          "text": [
            "Last run at: 13-01-2021 at 12:08:17 PM\n"
          ],
          "name": "stdout"
        }
      ]
    },
    {
      "cell_type": "code",
      "metadata": {
        "colab": {
          "base_uri": "https://localhost:8080/"
        },
        "id": "LOi5LuNSEHUk",
        "outputId": "9535b39b-b2e9-49be-a7aa-c951f024b4c0"
      },
      "source": [
        "import numpy as np # linear algebra\r\n",
        "import pandas as pd # data processing, CSV file I/O (e.g. pd.read_csv)\r\n",
        "import tensorflow as tf\r\n",
        "from tensorflow.keras import layers\r\n",
        "import os\r\n",
        "import csv\r\n",
        "import keras\r\n",
        "from keras.callbacks import ModelCheckpoint, EarlyStopping, ReduceLROnPlateau\r\n",
        "import sys\r\n",
        "import matplotlib.pyplot as plt\r\n",
        "from PIL import Image, ImageOps\r\n",
        "print(sys.version)\r\n",
        "print(tf.__version__)"
      ],
      "execution_count": 41,
      "outputs": [
        {
          "output_type": "stream",
          "text": [
            "3.6.9 (default, Oct  8 2020, 12:12:24) \n",
            "[GCC 8.4.0]\n",
            "2.4.0\n"
          ],
          "name": "stdout"
        }
      ]
    },
    {
      "cell_type": "code",
      "metadata": {
        "id": "2idxqocuGZza"
      },
      "source": [
        "os.chdir('/content/drive/MyDrive/ML/holiday_season/')\r\n",
        "if not os.path.exists('train'):\r\n",
        "  !unzip test.zip\r\n",
        "  !unzip train.zip"
      ],
      "execution_count": 42,
      "outputs": []
    },
    {
      "cell_type": "code",
      "metadata": {
        "id": "nPvg5UW5Kun7"
      },
      "source": [
        "df = pd.read_csv('train.csv')\r\n",
        "pd.set_option('max_colwidth', 800)\r\n",
        "df['Class'] = df['Class'].astype(str)\r\n",
        "df['path'] = df['Image'].map(lambda x:'train/'+x)\r\n",
        "df = df.drop(columns=['Image'])\r\n",
        "df = df.sample(frac=1).reset_index(drop=True) #shuffle dataframe"
      ],
      "execution_count": 43,
      "outputs": []
    },
    {
      "cell_type": "code",
      "metadata": {
        "colab": {
          "base_uri": "https://localhost:8080/"
        },
        "id": "J3TXDvmVqT9l",
        "outputId": "7f879e9a-747c-4940-fc8b-ef56d2ae859a"
      },
      "source": [
        "from sklearn import preprocessing\r\n",
        "le = preprocessing.LabelEncoder()\r\n",
        "df['Class'] = le.fit_transform(df['Class'])\r\n",
        "df['Class'] = df['Class'].astype(str)\r\n",
        "le_name_mapping = dict(zip(le.classes_, le.transform(le.classes_)))\r\n",
        "print(le_name_mapping)"
      ],
      "execution_count": 44,
      "outputs": [
        {
          "output_type": "stream",
          "text": [
            "{'Airplane': 0, 'Candle': 1, 'Christmas_Tree': 2, 'Jacket': 3, 'Miscellaneous': 4, 'Snowman': 5}\n"
          ],
          "name": "stdout"
        }
      ]
    },
    {
      "cell_type": "code",
      "metadata": {
        "colab": {
          "base_uri": "https://localhost:8080/",
          "height": 343
        },
        "id": "wtMYBC7gLDje",
        "outputId": "01358b4c-16ab-46f7-9dc9-0b7a8db83548"
      },
      "source": [
        "df.head(10)"
      ],
      "execution_count": 45,
      "outputs": [
        {
          "output_type": "execute_result",
          "data": {
            "text/html": [
              "<div>\n",
              "<style scoped>\n",
              "    .dataframe tbody tr th:only-of-type {\n",
              "        vertical-align: middle;\n",
              "    }\n",
              "\n",
              "    .dataframe tbody tr th {\n",
              "        vertical-align: top;\n",
              "    }\n",
              "\n",
              "    .dataframe thead th {\n",
              "        text-align: right;\n",
              "    }\n",
              "</style>\n",
              "<table border=\"1\" class=\"dataframe\">\n",
              "  <thead>\n",
              "    <tr style=\"text-align: right;\">\n",
              "      <th></th>\n",
              "      <th>Class</th>\n",
              "      <th>path</th>\n",
              "    </tr>\n",
              "  </thead>\n",
              "  <tbody>\n",
              "    <tr>\n",
              "      <th>0</th>\n",
              "      <td>4</td>\n",
              "      <td>train/image8250.jpg</td>\n",
              "    </tr>\n",
              "    <tr>\n",
              "      <th>1</th>\n",
              "      <td>2</td>\n",
              "      <td>train/image1520.jpg</td>\n",
              "    </tr>\n",
              "    <tr>\n",
              "      <th>2</th>\n",
              "      <td>2</td>\n",
              "      <td>train/image9840.jpg</td>\n",
              "    </tr>\n",
              "    <tr>\n",
              "      <th>3</th>\n",
              "      <td>1</td>\n",
              "      <td>train/image3391.jpg</td>\n",
              "    </tr>\n",
              "    <tr>\n",
              "      <th>4</th>\n",
              "      <td>4</td>\n",
              "      <td>train/image275.jpg</td>\n",
              "    </tr>\n",
              "    <tr>\n",
              "      <th>5</th>\n",
              "      <td>3</td>\n",
              "      <td>train/image39.jpg</td>\n",
              "    </tr>\n",
              "    <tr>\n",
              "      <th>6</th>\n",
              "      <td>4</td>\n",
              "      <td>train/image2693.jpg</td>\n",
              "    </tr>\n",
              "    <tr>\n",
              "      <th>7</th>\n",
              "      <td>0</td>\n",
              "      <td>train/image1321.jpg</td>\n",
              "    </tr>\n",
              "    <tr>\n",
              "      <th>8</th>\n",
              "      <td>2</td>\n",
              "      <td>train/image1619.jpg</td>\n",
              "    </tr>\n",
              "    <tr>\n",
              "      <th>9</th>\n",
              "      <td>5</td>\n",
              "      <td>train/image431.jpg</td>\n",
              "    </tr>\n",
              "  </tbody>\n",
              "</table>\n",
              "</div>"
            ],
            "text/plain": [
              "  Class                 path\n",
              "0     4  train/image8250.jpg\n",
              "1     2  train/image1520.jpg\n",
              "2     2  train/image9840.jpg\n",
              "3     1  train/image3391.jpg\n",
              "4     4   train/image275.jpg\n",
              "5     3    train/image39.jpg\n",
              "6     4  train/image2693.jpg\n",
              "7     0  train/image1321.jpg\n",
              "8     2  train/image1619.jpg\n",
              "9     5   train/image431.jpg"
            ]
          },
          "metadata": {
            "tags": []
          },
          "execution_count": 45
        }
      ]
    },
    {
      "cell_type": "code",
      "metadata": {
        "id": "vt445nm1LIxv"
      },
      "source": [
        "from sklearn.model_selection import train_test_split\r\n",
        "\r\n",
        "train, test = train_test_split(df, test_size=0.1)"
      ],
      "execution_count": 46,
      "outputs": []
    },
    {
      "cell_type": "code",
      "metadata": {
        "id": "CwTf6OQQLeoP"
      },
      "source": [
        "TARGET_WIDTH = 80\r\n",
        "TARGET_HEIGHT = 60"
      ],
      "execution_count": 47,
      "outputs": []
    },
    {
      "cell_type": "code",
      "metadata": {
        "colab": {
          "base_uri": "https://localhost:8080/"
        },
        "id": "xoZL-cJvLin0",
        "outputId": "ba896b23-b60f-4def-9037-d89a1c1f449c"
      },
      "source": [
        "from tensorflow.keras.optimizers import RMSprop\r\n",
        "from tensorflow.keras.preprocessing.image import ImageDataGenerator\r\n",
        "\r\n",
        "train_gen = ImageDataGenerator(rescale=1./255,\r\n",
        "                                rotation_range=90,\r\n",
        "                                zoom_range=[0.5,1.0],\r\n",
        "                                horizontal_flip=True,\r\n",
        "                                height_shift_range=0.5,\r\n",
        "                                brightness_range=[0.2,1.0],                \r\n",
        "                                width_shift_range=[-200,200],\r\n",
        "                                vertical_flip=True,\r\n",
        "                               ).flow_from_dataframe(\r\n",
        "                                train,\r\n",
        "                                directory=None,\r\n",
        "                                x_col=\"path\",\r\n",
        "                                y_col=\"Class\",\r\n",
        "                                target_size=(TARGET_WIDTH, TARGET_HEIGHT),\r\n",
        "                                color_mode=\"rgb\",\r\n",
        "                                classes=None,\r\n",
        "                                class_mode=\"categorical\",\r\n",
        "                                batch_size=64,\r\n",
        "                                shuffle=True,\r\n",
        "                                )\r\n",
        "valid_gen = ImageDataGenerator(rescale=1./255,).flow_from_dataframe(\r\n",
        "                                test,\r\n",
        "                                directory=None,\r\n",
        "                                x_col=\"path\",\r\n",
        "                                y_col=\"Class\",\r\n",
        "                                target_size=(TARGET_WIDTH, TARGET_HEIGHT),\r\n",
        "                                color_mode=\"rgb\",\r\n",
        "                                classes=None,\r\n",
        "                                class_mode=\"categorical\",\r\n",
        "                                batch_size=64,\r\n",
        "                                shuffle=True,\r\n",
        "                            )"
      ],
      "execution_count": 48,
      "outputs": [
        {
          "output_type": "stream",
          "text": [
            "Found 5822 validated image filenames belonging to 6 classes.\n",
            "Found 647 validated image filenames belonging to 6 classes.\n"
          ],
          "name": "stdout"
        }
      ]
    },
    {
      "cell_type": "code",
      "metadata": {
        "id": "DBGLch7aL-8g"
      },
      "source": [
        "from tensorflow.keras.applications import EfficientNetB7\r\n",
        "\r\n",
        "def get_model():\r\n",
        "    core = EfficientNetB7(\r\n",
        "                        include_top=False, input_tensor=None,weights='imagenet',input_shape=(TARGET_WIDTH, TARGET_HEIGHT,3))\r\n",
        "    model = core.output\r\n",
        "    model = layers.GlobalAveragePooling2D()(model)\r\n",
        "    model = layers.Dropout(0.2)(model)\r\n",
        "    model = layers.Dense(6, activation = \"softmax\")(model)\r\n",
        "    model = tf.keras.Model(inputs=[core.input], outputs=[model])\r\n",
        "    \r\n",
        "    return model\r\n"
      ],
      "execution_count": 49,
      "outputs": []
    },
    {
      "cell_type": "code",
      "metadata": {
        "id": "yhqR8NBsMwzN"
      },
      "source": [
        "model = get_model()\r\n",
        "model.compile(optimizer=keras.optimizers.Adam(lr = 0.1),metrics=['accuracy'], loss='categorical_crossentropy')"
      ],
      "execution_count": 50,
      "outputs": []
    },
    {
      "cell_type": "code",
      "metadata": {
        "id": "OC5uY0rUM1E6"
      },
      "source": [
        "early_stop = EarlyStopping(monitor = 'val_loss', min_delta = 0.001, \r\n",
        "                           patience = 5, mode = 'min', verbose = 1,\r\n",
        "                           restore_best_weights = True)\r\n",
        "reduce_lr = ReduceLROnPlateau(monitor = 'val_accuracy', factor = 0.1, \r\n",
        "                              patience = 2, min_delta = 0.001, \r\n",
        "                              mode = 'min', verbose = 1)"
      ],
      "execution_count": 51,
      "outputs": []
    },
    {
      "cell_type": "code",
      "metadata": {
        "colab": {
          "base_uri": "https://localhost:8080/"
        },
        "id": "T34w8xyQM4gK",
        "outputId": "b921d974-0453-4461-c229-4bab2f0f9fad"
      },
      "source": [
        "history = model.fit(train_gen,\r\n",
        "                              epochs=50,\r\n",
        "                              verbose=1,\r\n",
        "                              validation_data=valid_gen,\r\n",
        "                              callbacks = [early_stop, reduce_lr],)"
      ],
      "execution_count": null,
      "outputs": [
        {
          "output_type": "stream",
          "text": [
            "Epoch 1/50\n",
            "29/91 [========>.....................] - ETA: 21:36 - loss: 18.0441 - accuracy: 0.2199"
          ],
          "name": "stdout"
        }
      ]
    },
    {
      "cell_type": "code",
      "metadata": {
        "id": "uKEY_CRgyA16"
      },
      "source": [
        "plt.plot(history.history['accuracy'])\r\n",
        "plt.plot(history.history['val_accuracy'])\r\n",
        "plt.title('model accuracy')\r\n",
        "plt.ylabel('accuracy')\r\n",
        "plt.xlabel('epoch')\r\n",
        "plt.legend(['train', 'val'], loc='upper left')\r\n",
        "plt.show()"
      ],
      "execution_count": null,
      "outputs": []
    },
    {
      "cell_type": "code",
      "metadata": {
        "id": "mCuLhkOXyCUs"
      },
      "source": [
        "plt.plot(history.history['loss'])\r\n",
        "plt.plot(history.history['val_loss'])\r\n",
        "plt.title('model loss')\r\n",
        "plt.ylabel('loss')\r\n",
        "plt.xlabel('epoch')\r\n",
        "plt.legend(['train', 'val'], loc='upper left')\r\n",
        "plt.show()"
      ],
      "execution_count": null,
      "outputs": []
    },
    {
      "cell_type": "code",
      "metadata": {
        "id": "NEa2n9zlqJ3i"
      },
      "source": [
        "try:\r\n",
        "  os.remove('submission.csv')\r\n",
        "except Exception as e:\r\n",
        "  print(\"No file exists\")\r\n",
        "with open('submission.csv', 'w', newline='') as file:\r\n",
        "      writer = csv.writer(file, delimiter = ',')\r\n",
        "      writer.writerow([\"Image\", \"Class\"])"
      ],
      "execution_count": null,
      "outputs": []
    },
    {
      "cell_type": "code",
      "metadata": {
        "id": "0MR4BOVQh5Y4"
      },
      "source": [
        "for filename in os.listdir(\"test\"):\r\n",
        "    image = Image.open('test/'+filename)\r\n",
        "    image = image.resize((TARGET_HEIGHT, TARGET_WIDTH)).convert(\"RGB\")\r\n",
        "    # image = ImageOps.grayscale(image) \r\n",
        "    image = np.expand_dims(image, axis = 0)\r\n",
        "    try:\r\n",
        "      pred = np.argmax(model.predict(image))\r\n",
        "    except Exception as e:\r\n",
        "      print(e)\r\n",
        "      print(filename)\r\n",
        "    labels=['Airplane', 'Candle', 'Christmas_Tree', 'Jacket', 'Miscellaneous','Snowman']\r\n",
        "    with open('submission.csv', 'a') as file:\r\n",
        "      writer = csv.writer(file, delimiter = ',')\r\n",
        "      writer.writerow([filename, labels[pred]])"
      ],
      "execution_count": null,
      "outputs": []
    },
    {
      "cell_type": "code",
      "metadata": {
        "id": "DHyIQc-hHJa2"
      },
      "source": [
        "from google.colab import files\r\n",
        "files.download('submission.csv')"
      ],
      "execution_count": null,
      "outputs": []
    }
  ]
}